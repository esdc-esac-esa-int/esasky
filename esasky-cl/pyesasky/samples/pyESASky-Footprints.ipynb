{
 "cells": [
  {
   "cell_type": "code",
   "execution_count": 1,
   "metadata": {},
   "outputs": [],
   "source": [
    "from pyesasky.pyesasky import ESASkyWidget\n",
    "from pyesasky.pyesasky import FootprintSet\n",
    "from pyesasky.pyesasky import FootprintSetDescriptor\n",
    "from pyesasky.pyesasky import MetadataDescriptor\n",
    "from pyesasky.pyesasky import MetadataType"
   ]
  },
  {
   "cell_type": "code",
   "execution_count": 2,
   "metadata": {},
   "outputs": [],
   "source": [
    "esasky = ESASkyWidget()"
   ]
  },
  {
   "cell_type": "code",
   "execution_count": 3,
   "metadata": {},
   "outputs": [
    {
     "data": {
      "application/vnd.jupyter.widget-view+json": {
       "model_id": "f848d8680b7f4fe4b2898bec68842591",
       "version_major": 2,
       "version_minor": 0
      },
      "text/plain": [
       "ESASkyWidget(layout=Layout(align_self='stretch', height='400px'))"
      ]
     },
     "metadata": {},
     "output_type": "display_data"
    }
   ],
   "source": [
    "esasky"
   ]
  },
  {
   "cell_type": "code",
   "execution_count": 6,
   "metadata": {},
   "outputs": [],
   "source": [
    "footprintDesc = FootprintSetDescriptor('my test', 'red', 5, 'id', 'id', 'stcs', 'ra', 'dec', [])"
   ]
  },
  {
   "cell_type": "code",
   "execution_count": 7,
   "metadata": {},
   "outputs": [
    {
     "name": "stdout",
     "output_type": "stream",
     "text": [
      "Columns identified: id, ra, dec, wid, hei, stcs, score\n",
      "{id} mapped to id\n",
      "{name} mapped to id\n",
      "{centerRaDeg} mapped to ra\n",
      "{centerDecDeg} mapped to dec\n",
      "{stcs} mapped to stcs\n",
      "Processed 3575 lines.\n"
     ]
    }
   ],
   "source": [
    "esasky.overlayFootprintsFromCSV('/lhome/fgiordano/jupyter-workspace/pyesasky-0_1/newform_1200x1200.csv', ',', footprintDesc)"
   ]
  },
  {
   "cell_type": "code",
   "execution_count": 4,
   "metadata": {},
   "outputs": [],
   "source": [
    "footprintDesc2 = FootprintSetDescriptor('my test 2', 'green', 5, 'id', 'id', 'stcs', 'ra', 'dec', [])"
   ]
  },
  {
   "cell_type": "code",
   "execution_count": 5,
   "metadata": {},
   "outputs": [
    {
     "name": "stdout",
     "output_type": "stream",
     "text": [
      "Columns identified: id, ra, dec, stcs\n",
      "{id} mapped to id\n",
      "{name} mapped to id\n",
      "{centerRaDeg} mapped to ra\n",
      "{centerDecDeg} mapped to dec\n",
      "{stcs} mapped to stcs\n",
      "Processed 10 lines.\n"
     ]
    }
   ],
   "source": [
    "esasky.overlayFootprintsFromCSV('/home/fgiordano/jupyter-workspace/pyesasky-0_1/newform_MWP_head.csv', ',', footprintDesc2)"
   ]
  },
  {
   "cell_type": "code",
   "execution_count": null,
   "metadata": {},
   "outputs": [],
   "source": []
  }
 ],
 "metadata": {
  "kernelspec": {
   "display_name": "Python 3",
   "language": "python",
   "name": "python3"
  },
  "language_info": {
   "codemirror_mode": {
    "name": "ipython",
    "version": 3
   },
   "file_extension": ".py",
   "mimetype": "text/x-python",
   "name": "python",
   "nbconvert_exporter": "python",
   "pygments_lexer": "ipython3",
   "version": "3.6.5"
  }
 },
 "nbformat": 4,
 "nbformat_minor": 2
}
